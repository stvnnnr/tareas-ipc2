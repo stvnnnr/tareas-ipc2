{
  "nbformat": 4,
  "nbformat_minor": 0,
  "metadata": {
    "colab": {
      "name": "3.Listas doblemente enlazadas.ipynb",
      "provenance": [],
      "collapsed_sections": [],
      "authorship_tag": "ABX9TyPDsjsxHZlXnCDMgtd/8K6a",
      "include_colab_link": true
    },
    "kernelspec": {
      "name": "python3",
      "display_name": "Python 3"
    },
    "language_info": {
      "name": "python"
    }
  },
  "cells": [
    {
      "cell_type": "markdown",
      "metadata": {
        "id": "view-in-github",
        "colab_type": "text"
      },
      "source": [
        "<a href=\"https://colab.research.google.com/github/stvnnnr/tareas-ipc2/blob/main/3_Listas_doblemente_enlazadas.ipynb\" target=\"_parent\"><img src=\"https://colab.research.google.com/assets/colab-badge.svg\" alt=\"Open In Colab\"/></a>"
      ]
    },
    {
      "cell_type": "markdown",
      "metadata": {
        "id": "EmZ3C_D80E4s"
      },
      "source": [
        "## **Lista doblemente enlazada**\n",
        "*Definición de la clase*"
      ]
    },
    {
      "cell_type": "code",
      "metadata": {
        "id": "PMaVsQMdz6gX"
      },
      "source": [
        "class estudiante:\n",
        "  def __init__ (self, carne, nombre, edad, direccion, telefono, email, carrera, puesto):\n",
        "    self.carne = carne\n",
        "    self.nombre = nombre\n",
        "    self.edad = edad\n",
        "    self.direccion = direccion\n",
        "    self.telefono = telefono\n",
        "    self.email = email\n",
        "    self.carrera = carrera\n",
        "    self.puesto = puesto    "
      ],
      "execution_count": 1,
      "outputs": []
    },
    {
      "cell_type": "markdown",
      "metadata": {
        "id": "m-_P0lf80LDr"
      },
      "source": [
        "**Definición de la clase Nodo**"
      ]
    },
    {
      "cell_type": "code",
      "metadata": {
        "id": "H3Rt0Hmd0PUR"
      },
      "source": [
        "class nodo:\n",
        "  def __init__(self, estudiante=None, siguiente=None, anterior=None):\n",
        "    self.estudiante = estudiante\n",
        "    self.siguiente = siguiente\n",
        "    self.anterior = anterior"
      ],
      "execution_count": 2,
      "outputs": []
    },
    {
      "cell_type": "markdown",
      "metadata": {
        "id": "b3ILSxgY0rkz"
      },
      "source": [
        "**Definición de la clase Lista Doblemente enlazada**"
      ]
    },
    {
      "cell_type": "code",
      "metadata": {
        "id": "_vD_uHHQ0yCE"
      },
      "source": [
        "class lista_doble:\n",
        "  def __init__(self):\n",
        "    self.primero=None\n",
        "\n",
        "  def insertar(self,estudiante):\n",
        "    if self.primero is None:\n",
        "      self.primero= nodo(estudiante=estudiante)\n",
        "    else:\n",
        "      actual=nodo(estudiante=estudiante, siguiente=self.primero)\n",
        "      self.primero.anterior=actual\n",
        "      self.primero=actual\n",
        "\n",
        "  def recorrer(self):\n",
        "    if self.primero is None:\n",
        "      return\n",
        "    actual= self.primero\n",
        "    print(\"Carne: \", actual.estudiante.carne, \"Nombre: \", actual.estudiante.nombre, \"Email\", actual.estudiante.email, \"-->\")\n",
        "    while actual.siguiente:\n",
        "      actual=actual.siguiente\n",
        "      print(\"Carne: \", actual.estudiante.carne, \"Nombre: \", actual.estudiante.nombre, \"Email\", actual.estudiante.email, \"-->\")\n",
        "\n",
        "  def eliminar(self, carne):\n",
        "    actual = self.primero\n",
        "    while actual:\n",
        "      if actual.estudiante.carne == carne:\n",
        "        if actual.anterior:\n",
        "          if actual.siguiente:\n",
        "            actual.anterior.siguiente = actual.siguiente\n",
        "            actual.siguiente.anterior = actual.anterior\n",
        "          else:\n",
        "            actual.anterior.siguiente = None\n",
        "            actual.anterior = None\n",
        "        else:\n",
        "          if actual.siguiente:\n",
        "            self.primero = actual.siguiente\n",
        "            actual.siguiente.anterior = None\n",
        "          else:\n",
        "            self.primero = None\n",
        "        return True\n",
        "      else:\n",
        "        actual = actual.siguiente\n",
        "    return False\n",
        "\n",
        "  def buscar(self, carne):\n",
        "    actual = self.primero\n",
        "    while actual:\n",
        "      if actual.estudiante.carne == carne:\n",
        "        print(\"Carne: \", actual.estudiante.carne, \"Nombre: \", actual.estudiante.nombre, \"Email\", actual.estudiante.email, \"-->\")\n",
        "        break\n",
        "      else:\n",
        "        actual = actual.siguiente"
      ],
      "execution_count": 17,
      "outputs": []
    },
    {
      "cell_type": "markdown",
      "metadata": {
        "id": "Ef5be8Ag2Zpi"
      },
      "source": [
        "**Creacion de objetos estudiantes**\n"
      ]
    },
    {
      "cell_type": "code",
      "metadata": {
        "id": "JPhUHpFUhVTC"
      },
      "source": [
        "e1=estudiante(201904053,\"Gerson Ortiz\",20,\"9 calle 10-02 zona 1\",2444401,\"gerson.ortiz@gmail.com\",\"Ingenieria en sistemas\",\"Programador Jr\")\n",
        "e2=estudiante(201904820,\"Karen Hurtarte\",21,\"7 calle 10-01 zona 7\",1452369,\"karen.hurtarte@gmail.com\",\"Ingenieria en sistemas\",\"Programador Jr\")\n",
        "e3=estudiante(201908452,\"Luis  Mendez\",22,\"14 calle 18-1 zona 5\",14526320,\"luis.mendez@gmail.com\",\"Ingenieria en sistemas\",\"Programador Jr\")"
      ],
      "execution_count": 18,
      "outputs": []
    },
    {
      "cell_type": "markdown",
      "metadata": {
        "id": "Z3bJD5PO2g5C"
      },
      "source": [
        "**Insercion**"
      ]
    },
    {
      "cell_type": "code",
      "metadata": {
        "id": "YZpFKnLQ2kPZ"
      },
      "source": [
        "lista_c=lista_doble()\n",
        "lista_c.insertar(e1)\n",
        "lista_c.insertar(e2)\n",
        "lista_c.insertar(e3)"
      ],
      "execution_count": 19,
      "outputs": []
    },
    {
      "cell_type": "markdown",
      "metadata": {
        "id": "IlrP2AGKwQXu"
      },
      "source": [
        "**Recorrer la lista**"
      ]
    },
    {
      "cell_type": "code",
      "metadata": {
        "colab": {
          "base_uri": "https://localhost:8080/"
        },
        "id": "Y6wjGgP1wPUB",
        "outputId": "af9ac7a4-9d59-4b00-ab5b-a117409fb5bd"
      },
      "source": [
        "lista_c.recorrer()"
      ],
      "execution_count": 20,
      "outputs": [
        {
          "output_type": "stream",
          "text": [
            "Carne:  201908452 Nombre:  Luis  Mendez Email luis.mendez@gmail.com -->\n",
            "Carne:  201904820 Nombre:  Karen Hurtarte Email karen.hurtarte@gmail.com -->\n",
            "Carne:  201904053 Nombre:  Gerson Ortiz Email gerson.ortiz@gmail.com -->\n"
          ],
          "name": "stdout"
        }
      ]
    },
    {
      "cell_type": "markdown",
      "metadata": {
        "id": "jLfsmA_P2p16"
      },
      "source": [
        "**Elimnar**"
      ]
    },
    {
      "cell_type": "code",
      "metadata": {
        "colab": {
          "base_uri": "https://localhost:8080/"
        },
        "id": "OmO8Eors2rp3",
        "outputId": "b7dd7657-375a-458a-ae23-656ef07649de"
      },
      "source": [
        "lista_c.eliminar(201908452)\n",
        "lista_c.recorrer()"
      ],
      "execution_count": 21,
      "outputs": [
        {
          "output_type": "stream",
          "text": [
            "Carne:  201904820 Nombre:  Karen Hurtarte Email karen.hurtarte@gmail.com -->\n",
            "Carne:  201904053 Nombre:  Gerson Ortiz Email gerson.ortiz@gmail.com -->\n"
          ],
          "name": "stdout"
        }
      ]
    },
    {
      "cell_type": "markdown",
      "metadata": {
        "id": "_OmZLuQgAFX-"
      },
      "source": [
        "**Buscar**\n"
      ]
    },
    {
      "cell_type": "code",
      "metadata": {
        "colab": {
          "base_uri": "https://localhost:8080/"
        },
        "id": "BTHUXT7QAHPh",
        "outputId": "23f0462b-81dc-440a-f1bc-14356fb93e6e"
      },
      "source": [
        "lista_c.buscar(201904053)\n"
      ],
      "execution_count": 22,
      "outputs": [
        {
          "output_type": "stream",
          "text": [
            "Carne:  201904053 Nombre:  Gerson Ortiz Email gerson.ortiz@gmail.com -->\n"
          ],
          "name": "stdout"
        }
      ]
    }
  ]
}