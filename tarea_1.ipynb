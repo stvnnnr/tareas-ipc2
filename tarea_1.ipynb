{
  "nbformat": 4,
  "nbformat_minor": 0,
  "metadata": {
    "colab": {
      "name": "tarea-1.ipynb",
      "provenance": [],
      "collapsed_sections": [],
      "authorship_tag": "ABX9TyPqOaF9ad+a1FrlCcVhbDxz",
      "include_colab_link": true
    },
    "kernelspec": {
      "name": "python3",
      "display_name": "Python 3"
    },
    "language_info": {
      "name": "python"
    }
  },
  "cells": [
    {
      "cell_type": "markdown",
      "metadata": {
        "id": "view-in-github",
        "colab_type": "text"
      },
      "source": [
        "<a href=\"https://colab.research.google.com/github/stvnnnr/tareas-ipc2/blob/main/tarea_1.ipynb\" target=\"_parent\"><img src=\"https://colab.research.google.com/assets/colab-badge.svg\" alt=\"Open In Colab\"/></a>"
      ]
    },
    {
      "cell_type": "markdown",
      "metadata": {
        "id": "U6IP5SlDt4mY"
      },
      "source": [
        "## **Lista enlazada**\n",
        "*Definición de la clase*\n"
      ]
    },
    {
      "cell_type": "code",
      "metadata": {
        "id": "S8s6h7yLuMpf"
      },
      "source": [
        "class estudiante:\n",
        "  def __init__ (self, carne, nombre, edad, direccion, telefono, email, carrera, puesto):\n",
        "    self.carne = carne\n",
        "    self.nombre = nombre\n",
        "    self.edad = edad\n",
        "    self.direccion = direccion\n",
        "    self.telefono = telefono\n",
        "    self.email = email\n",
        "    self.carrera = carrera\n",
        "    self.puesto = puesto    "
      ],
      "execution_count": 1,
      "outputs": []
    },
    {
      "cell_type": "markdown",
      "metadata": {
        "id": "HINCqSPGzX1Q"
      },
      "source": [
        "**Definición de la clase Nodo**"
      ]
    },
    {
      "cell_type": "code",
      "metadata": {
        "id": "IzpCww9Dzc_j"
      },
      "source": [
        "class nodo:\n",
        "  def __init__ (self, estudiante=None, siguiente=None):\n",
        "    self.estudiante = estudiante\n",
        "    self.siguiente = siguiente\n"
      ],
      "execution_count": 2,
      "outputs": []
    },
    {
      "cell_type": "markdown",
      "metadata": {
        "id": "j4PNEHtF26Ka"
      },
      "source": [
        "**Definición de la clase Lista Enlazada**"
      ]
    },
    {
      "cell_type": "code",
      "metadata": {
        "id": "05xJnAIo2_E-"
      },
      "source": [
        "class lista_enlazada:\n",
        "  def __init__(self):\n",
        "    self.primero=None\n",
        "  \n",
        "  def insertar(self,estudiante):\n",
        "    if self.primero is None:\n",
        "      self.primero = nodo(estudiante=estudiante)\n",
        "      return\n",
        "    actual = self.primero\n",
        "    while actual.siguiente:\n",
        "      actual = actual.siguiente\n",
        "    actual.siguiente = nodo(estudiante=estudiante)\n",
        "  \n",
        "  def recorrer(self):\n",
        "    actual= self.primero\n",
        "    while actual != None:\n",
        "      print(\"carne\",actual.estudiante.carne,\"nombre:\",actual.estudiante.nombre,\"email:\",actual.estudiante.email,\"->\")\n",
        "      actual=actual.siguiente\n",
        "  \n",
        "  def eliminar(self,carne):\n",
        "    actual=self.primero\n",
        "    anterior=None\n",
        "\n",
        "    while actual and actual.estudiante.carne != carne:\n",
        "      anterior=actual\n",
        "      actual=actual.siguiente\n",
        "\n",
        "    if anterior is None:\n",
        "      self.primero = actual.siguiente\n",
        "      actual.siguiente = None\n",
        "    elif actual:\n",
        "      anterior.siguiente = actual.siguiente\n",
        "      actual.siguiente = None\n",
        "\n",
        "  def buscar(self, carne):\n",
        "    actual = self.primero\n",
        "    while actual != None:\n",
        "      if actual and actual.estudiante.carne == carne:\n",
        "        print(\"carne\",actual.estudiante.carne,\"nombre:\",actual.estudiante.nombre,\"email:\",actual.estudiante.email,\"->\")\n",
        "      actual = actual.siguiente"
      ],
      "execution_count": 3,
      "outputs": []
    },
    {
      "cell_type": "markdown",
      "metadata": {
        "id": "XgZ6Ra-74bwY"
      },
      "source": [
        "***CREACION DE OBJETOS ESTUDIANTE***\n",
        "\n",
        "> Bloc con sangría\n",
        "\n",
        "> Bloc con sangría"
      ]
    },
    {
      "cell_type": "code",
      "metadata": {
        "id": "1i36bBhRTzGN"
      },
      "source": [
        "e1=estudiante(201904053,\"Gerson Ortiz\",20,\"9 calle 10-02 zona 1\",2444401,\"gerson.ortiz@gmail.com\",\"Ingenieria en sistemas\",\"Programador Jr\")\n",
        "e2=estudiante(201904820,\"Karen Hurtarte\",21,\"7 calle 10-01 zona 7\",1452369,\"karen.hurtarte@gmail.com\",\"Ingenieria en sistemas\",\"Programador Jr\")\n",
        "e3=estudiante(202110312,\"Luis  Mendez\",22,\"14 calle 18-1 zona 5\",14526320,\"luis.mendez@gmail.com\",\"Ingenieria en sistemas\",\"Programador Jr\")"
      ],
      "execution_count": 4,
      "outputs": []
    },
    {
      "cell_type": "markdown",
      "metadata": {
        "id": "I6MhqI43T3jc"
      },
      "source": [
        "**Insercion**"
      ]
    },
    {
      "cell_type": "code",
      "metadata": {
        "id": "hlerG-gQ4xYk"
      },
      "source": [
        "lista_e=lista_enlazada()\n",
        "lista_e.insertar(e1)\n",
        "lista_e.insertar(e2)\n",
        "lista_e.insertar(e3)"
      ],
      "execution_count": 5,
      "outputs": []
    },
    {
      "cell_type": "markdown",
      "metadata": {
        "id": "tNfc5YeoT_I4"
      },
      "source": [
        "**RECORRER**"
      ]
    },
    {
      "cell_type": "code",
      "metadata": {
        "colab": {
          "base_uri": "https://localhost:8080/"
        },
        "id": "GgyVM9VYUCE8",
        "outputId": "e75f5151-9eca-4c91-98ca-8ad4b39cb138"
      },
      "source": [
        "lista_e.recorrer()"
      ],
      "execution_count": 6,
      "outputs": [
        {
          "output_type": "stream",
          "text": [
            "carne 201904053 nombre: Gerson Ortiz email: gerson.ortiz@gmail.com ->\n",
            "carne 201904820 nombre: Karen Hurtarte email: karen.hurtarte@gmail.com ->\n",
            "carne 202110312 nombre: Luis  Mendez email: luis.mendez@gmail.com ->\n"
          ],
          "name": "stdout"
        }
      ]
    },
    {
      "cell_type": "code",
      "metadata": {
        "colab": {
          "base_uri": "https://localhost:8080/"
        },
        "id": "iDLVvJPtz1Ls",
        "outputId": "2c6cc30f-5db4-41b4-c888-59f6d6e5010a"
      },
      "source": [
        "lista_e.eliminar(202110312)\n",
        "lista_e.recorrer()"
      ],
      "execution_count": 7,
      "outputs": [
        {
          "output_type": "stream",
          "text": [
            "carne 201904053 nombre: Gerson Ortiz email: gerson.ortiz@gmail.com ->\n",
            "carne 201904820 nombre: Karen Hurtarte email: karen.hurtarte@gmail.com ->\n"
          ],
          "name": "stdout"
        }
      ]
    },
    {
      "cell_type": "code",
      "metadata": {
        "colab": {
          "base_uri": "https://localhost:8080/"
        },
        "id": "O2xoaa2ZEgSI",
        "outputId": "83163946-a213-4f07-be6e-a8e94346ae89"
      },
      "source": [
        "lista_e.buscar(201904820)"
      ],
      "execution_count": 8,
      "outputs": [
        {
          "output_type": "stream",
          "text": [
            "carne 201904820 nombre: Karen Hurtarte email: karen.hurtarte@gmail.com ->\n"
          ],
          "name": "stdout"
        }
      ]
    }
  ]
}